{
 "cells": [
  {
   "cell_type": "code",
   "execution_count": 2,
   "metadata": {
    "ExecuteTime": {
     "end_time": "2019-12-18T15:13:17.423549Z",
     "start_time": "2019-12-18T15:13:17.396271Z"
    }
   },
   "outputs": [],
   "source": [
    "from keras.engine.topology import Layer\n",
    "import keras.backend as K\n",
    "\n",
    "\n",
    "class RoiPoolingConv(Layer):\n",
    "    \"\"\"ROI pooling layer for 2D inputs.\n",
    "    See Spatial Pyramid Pooling in Deep Convolutional Networks for Visual Recognition,\n",
    "    K. He, X. Zhang, S. Ren, J. Sun\n",
    "    # Arguments\n",
    "        pool_size: int\n",
    "            Size of pooling region to use. pool_size = 7 will result in a 7x7 region.\n",
    "        num_rois: number of regions of interest to be used\n",
    "    # Input shape\n",
    "        list of two 4D tensors [X_img,X_roi] with shape:\n",
    "        X_img:\n",
    "        `(1, channels, rows, cols)` if dim_ordering='th'\n",
    "        or 4D tensor with shape:\n",
    "        `(1, rows, cols, channels)` if dim_ordering='tf'.\n",
    "        X_roi:\n",
    "        `(1,num_rois,4)` list of rois, with ordering (x,y,w,h)\n",
    "    # Output shape\n",
    "        3D tensor with shape:\n",
    "        `(1, num_rois, channels, pool_size, pool_size)`\n",
    "    \"\"\"\n",
    "\n",
    "    def __init__(self, pool_size, num_rois, **kwargs):\n",
    "        self.pool_size = pool_size\n",
    "        self.num_rois = num_rois\n",
    "\n",
    "        super(RoiPoolingConv, self).__init__(**kwargs)\n",
    "\n",
    "    def build(self, input_shape):\n",
    "        self.nb_channels = input_shape[0][3]\n",
    "\n",
    "    def compute_output_shape(self, input_shape):\n",
    "        return None, self.num_rois, self.pool_size, self.pool_size, self.nb_channels\n",
    "\n",
    "    def call(self, x, mask=None):\n",
    "\n",
    "        assert (len(x) == 2)\n",
    "\n",
    "        img = x[0]\n",
    "        rois = x[1]\n",
    "\n",
    "        input_shape = K.shape(img)\n",
    "\n",
    "        outputs = []\n",
    "\n",
    "        for roi_idx in range(self.num_rois):\n",
    "\n",
    "            x = rois[0, roi_idx, 0]\n",
    "            y = rois[0, roi_idx, 1]\n",
    "            w = rois[0, roi_idx, 2]\n",
    "            h = rois[0, roi_idx, 3]\n",
    "\n",
    "            row_length = w / float(self.pool_size)\n",
    "            col_length = h / float(self.pool_size)\n",
    "\n",
    "            num_pool_regions = self.pool_size\n",
    "\n",
    "            for jy in range(num_pool_regions):\n",
    "                for ix in range(num_pool_regions):\n",
    "                    x1 = x + ix * row_length\n",
    "                    x2 = x1 + row_length\n",
    "                    y1 = y + jy * col_length\n",
    "                    y2 = y1 + col_length\n",
    "\n",
    "                    x1 = K.cast(x1, 'int32')\n",
    "                    x2 = K.cast(x2, 'int32')\n",
    "                    y1 = K.cast(y1, 'int32')\n",
    "                    y2 = K.cast(y2, 'int32')\n",
    "\n",
    "                    new_shape = [input_shape[0], y2 - y1,\n",
    "                                 x2 - x1, input_shape[3]]\n",
    "                    x_crop = img[:, y1:y2, x1:x2, :]\n",
    "                    xm = K.reshape(x_crop, new_shape)\n",
    "                    pooled_val = K.max(xm, axis=(1, 2))\n",
    "                    outputs.append(pooled_val)\n",
    "\n",
    "        final_output = K.concatenate(outputs, axis=0)\n",
    "        final_output = K.reshape(final_output, (1, self.num_rois, self.pool_size, self.pool_size, self.nb_channels))\n",
    "\n",
    "        final_output = K.permute_dimensions(final_output, (0, 1, 2, 3, 4))\n",
    "\n",
    "        return final_output"
   ]
  },
  {
   "cell_type": "code",
   "execution_count": 3,
   "metadata": {
    "ExecuteTime": {
     "end_time": "2019-12-18T15:13:18.208855Z",
     "start_time": "2019-12-18T15:13:17.665719Z"
    }
   },
   "outputs": [
    {
     "name": "stdout",
     "output_type": "stream",
     "text": [
      "Model: \"model_1\"\n",
      "__________________________________________________________________________________________________\n",
      "Layer (type)                    Output Shape         Param #     Connected to                     \n",
      "==================================================================================================\n",
      "input_1 (InputLayer)            (None, None, None, 3 0                                            \n",
      "__________________________________________________________________________________________________\n",
      "input_2 (InputLayer)            (None, 4, 4)         0                                            \n",
      "__________________________________________________________________________________________________\n",
      "roi_pooling_conv_1 (RoiPoolingC (None, 4, 2, 2, 3)   0           input_1[0][0]                    \n",
      "                                                                 input_2[0][0]                    \n",
      "==================================================================================================\n",
      "Total params: 0\n",
      "Trainable params: 0\n",
      "Non-trainable params: 0\n",
      "__________________________________________________________________________________________________\n"
     ]
    }
   ],
   "source": [
    "import pdb\n",
    "\n",
    "import keras.backend as K\n",
    "import numpy as np\n",
    "from keras.layers import Input\n",
    "from keras.models import Model\n",
    "\n",
    "pooling_regions = 2\n",
    "num_rois = 4\n",
    "num_channels = 3\n",
    "\n",
    "in_img = Input(shape=(None, None, num_channels))\n",
    "\n",
    "in_roi = Input(shape=(num_rois, 4))\n",
    "\n",
    "out_roi_pool = RoiPoolingConv(pooling_regions, num_rois)([in_img, in_roi])\n",
    "\n",
    "model = Model([in_img, in_roi], out_roi_pool)\n",
    "model.summary()\n",
    "\n",
    "model.compile(loss='mse', optimizer='sgd')"
   ]
  },
  {
   "cell_type": "code",
   "execution_count": 4,
   "metadata": {
    "ExecuteTime": {
     "end_time": "2019-12-18T15:13:21.739245Z",
     "start_time": "2019-12-18T15:13:18.242664Z"
    }
   },
   "outputs": [
    {
     "name": "stdout",
     "output_type": "stream",
     "text": [
      "WARNING:tensorflow:From /home/jhjung/tensorflow_1.14.0_env/lib/python3.7/site-packages/keras/backend/tensorflow_backend.py:422: The name tf.global_variables is deprecated. Please use tf.compat.v1.global_variables instead.\n",
      "\n"
     ]
    }
   ],
   "source": [
    "for img_size in [32]:\n",
    "    X_img = np.random.rand(1, img_size, img_size, num_channels)\n",
    "    row_length = [float(X_img.shape[1]) / pooling_regions]\n",
    "    col_length = [float(X_img.shape[2]) / pooling_regions]\n",
    "\n",
    "    X_roi = np.array([[0, 0, img_size / 2, img_size / 2],\n",
    "                      [0, img_size / 2, img_size / 2, img_size / 2],\n",
    "                      [img_size / 2, 0, img_size / 2, img_size / 2],\n",
    "                      [img_size / 2, img_size / 2, img_size / 2, img_size / 2]])\n",
    "    \n",
    "    X_roi = np.reshape(X_roi, (1, num_rois, 4))\n",
    "\n",
    "    Y = model.predict([X_img, X_roi])\n",
    "    \n",
    "    "
   ]
  },
  {
   "cell_type": "code",
   "execution_count": 5,
   "metadata": {
    "ExecuteTime": {
     "end_time": "2019-12-18T15:13:21.801579Z",
     "start_time": "2019-12-18T15:13:21.790448Z"
    }
   },
   "outputs": [
    {
     "data": {
      "text/plain": [
       "(1, 32, 32, 3)"
      ]
     },
     "execution_count": 5,
     "metadata": {},
     "output_type": "execute_result"
    }
   ],
   "source": [
    "X_img.shape"
   ]
  },
  {
   "cell_type": "code",
   "execution_count": 7,
   "metadata": {
    "ExecuteTime": {
     "end_time": "2019-12-18T15:15:51.252180Z",
     "start_time": "2019-12-18T15:15:26.641183Z"
    }
   },
   "outputs": [
    {
     "name": "stdout",
     "output_type": "stream",
     "text": [
      "> <ipython-input-7-7806c0f0b4be>(26)<module>()\n",
      "-> np.testing.assert_almost_equal(\n",
      "(Pdb) print\n",
      "<built-in function print>\n",
      "(Pdb) print\n",
      "<built-in function print>\n",
      "(Pdb) list\n",
      " 21  \t\n",
      " 22  \t                m_val = np.max(X_curr[y1:y2, x1:x2, cn])\n",
      " 23  \t\n",
      " 24  \t                if abs(m_val - Y[0, roi, jy, ix, cn]) < 0.01:\n",
      " 25  \t                    pdb.set_trace()\n",
      " 26  ->\t                np.testing.assert_almost_equal(\n",
      " 27  \t                    m_val, Y[0, roi, jy, ix, cn], decimal=6)\n",
      " 28  \t                idx += 1\n",
      "[EOF]\n",
      "(Pdb) where\n",
      "  /usr/lib/python3.7/runpy.py(193)_run_module_as_main()\n",
      "-> \"__main__\", mod_spec)\n",
      "  /usr/lib/python3.7/runpy.py(85)_run_code()\n",
      "-> exec(code, run_globals)\n",
      "  /home/jhjung/tensorflow_1.14.0_env/lib/python3.7/site-packages/ipykernel_launcher.py(16)<module>()\n",
      "-> app.launch_new_instance()\n",
      "  /home/jhjung/tensorflow_1.14.0_env/lib/python3.7/site-packages/traitlets/config/application.py(664)launch_instance()\n",
      "-> app.start()\n",
      "  /home/jhjung/tensorflow_1.14.0_env/lib/python3.7/site-packages/ipykernel/kernelapp.py(563)start()\n",
      "-> self.io_loop.start()\n",
      "  /home/jhjung/tensorflow_1.14.0_env/lib/python3.7/site-packages/tornado/platform/asyncio.py(148)start()\n",
      "-> self.asyncio_loop.run_forever()\n",
      "  /usr/lib/python3.7/asyncio/base_events.py(534)run_forever()\n",
      "-> self._run_once()\n",
      "  /usr/lib/python3.7/asyncio/base_events.py(1771)_run_once()\n",
      "-> handle._run()\n",
      "  /usr/lib/python3.7/asyncio/events.py(88)_run()\n",
      "-> self._context.run(self._callback, *self._args)\n",
      "  /home/jhjung/tensorflow_1.14.0_env/lib/python3.7/site-packages/tornado/ioloop.py(690)<lambda>()\n",
      "-> lambda f: self._run_callback(functools.partial(callback, future))\n",
      "  /home/jhjung/tensorflow_1.14.0_env/lib/python3.7/site-packages/tornado/ioloop.py(743)_run_callback()\n",
      "-> ret = callback()\n",
      "  /home/jhjung/tensorflow_1.14.0_env/lib/python3.7/site-packages/tornado/gen.py(787)inner()\n",
      "-> self.run()\n",
      "  /home/jhjung/tensorflow_1.14.0_env/lib/python3.7/site-packages/tornado/gen.py(748)run()\n",
      "-> yielded = self.gen.send(value)\n",
      "  /home/jhjung/tensorflow_1.14.0_env/lib/python3.7/site-packages/ipykernel/kernelbase.py(365)process_one()\n",
      "-> yield gen.maybe_future(dispatch(*args))\n",
      "  /home/jhjung/tensorflow_1.14.0_env/lib/python3.7/site-packages/tornado/gen.py(209)wrapper()\n",
      "-> yielded = next(result)\n",
      "  /home/jhjung/tensorflow_1.14.0_env/lib/python3.7/site-packages/ipykernel/kernelbase.py(272)dispatch_shell()\n",
      "-> yield gen.maybe_future(handler(stream, idents, msg))\n",
      "  /home/jhjung/tensorflow_1.14.0_env/lib/python3.7/site-packages/tornado/gen.py(209)wrapper()\n",
      "-> yielded = next(result)\n",
      "  /home/jhjung/tensorflow_1.14.0_env/lib/python3.7/site-packages/ipykernel/kernelbase.py(542)execute_request()\n",
      "-> user_expressions, allow_stdin,\n",
      "  /home/jhjung/tensorflow_1.14.0_env/lib/python3.7/site-packages/tornado/gen.py(209)wrapper()\n",
      "-> yielded = next(result)\n",
      "  /home/jhjung/tensorflow_1.14.0_env/lib/python3.7/site-packages/ipykernel/ipkernel.py(294)do_execute()\n",
      "-> res = shell.run_cell(code, store_history=store_history, silent=silent)\n",
      "  /home/jhjung/tensorflow_1.14.0_env/lib/python3.7/site-packages/ipykernel/zmqshell.py(536)run_cell()\n",
      "-> return super(ZMQInteractiveShell, self).run_cell(*args, **kwargs)\n",
      "  /home/jhjung/tensorflow_1.14.0_env/lib/python3.7/site-packages/IPython/core/interactiveshell.py(2855)run_cell()\n",
      "-> raw_cell, store_history, silent, shell_futures)\n",
      "  /home/jhjung/tensorflow_1.14.0_env/lib/python3.7/site-packages/IPython/core/interactiveshell.py(2881)_run_cell()\n",
      "-> return runner(coro)\n",
      "  /home/jhjung/tensorflow_1.14.0_env/lib/python3.7/site-packages/IPython/core/async_helpers.py(68)_pseudo_sync_runner()\n",
      "-> coro.send(None)\n",
      "  /home/jhjung/tensorflow_1.14.0_env/lib/python3.7/site-packages/IPython/core/interactiveshell.py(3058)run_cell_async()\n",
      "-> interactivity=interactivity, compiler=compiler, result=result)\n",
      "  /home/jhjung/tensorflow_1.14.0_env/lib/python3.7/site-packages/IPython/core/interactiveshell.py(3249)run_ast_nodes()\n",
      "-> if (await self.run_code(code, result,  async_=asy)):\n",
      "  /home/jhjung/tensorflow_1.14.0_env/lib/python3.7/site-packages/IPython/core/interactiveshell.py(3326)run_code()\n",
      "-> exec(code_obj, self.user_global_ns, self.user_ns)\n",
      "> <ipython-input-7-7806c0f0b4be>(26)<module>()\n",
      "-> np.testing.assert_almost_equal(\n",
      "(Pdb) help\n",
      "\n",
      "Documented commands (type help <topic>):\n",
      "========================================\n",
      "EOF    c          d        h         list      q        rv       undisplay\n",
      "a      cl         debug    help      ll        quit     s        unt      \n",
      "alias  clear      disable  ignore    longlist  r        source   until    \n",
      "args   commands   display  interact  n         restart  step     up       \n",
      "b      condition  down     j         next      return   tbreak   w        \n",
      "break  cont       enable   jump      p         retval   u        whatis   \n",
      "bt     continue   exit     l         pp        run      unalias  where    \n",
      "\n",
      "Miscellaneous help topics:\n",
      "==========================\n",
      "exec  pdb\n",
      "\n",
      "(Pdb) quit\n"
     ]
    },
    {
     "ename": "BdbQuit",
     "evalue": "",
     "output_type": "error",
     "traceback": [
      "\u001b[0;31m---------------------------------------------------------------------------\u001b[0m",
      "\u001b[0;31mBdbQuit\u001b[0m                                   Traceback (most recent call last)",
      "\u001b[0;32m<ipython-input-7-7806c0f0b4be>\u001b[0m in \u001b[0;36m<module>\u001b[0;34m\u001b[0m\n\u001b[1;32m     24\u001b[0m                 \u001b[0;32mif\u001b[0m \u001b[0mabs\u001b[0m\u001b[0;34m(\u001b[0m\u001b[0mm_val\u001b[0m \u001b[0;34m-\u001b[0m \u001b[0mY\u001b[0m\u001b[0;34m[\u001b[0m\u001b[0;36m0\u001b[0m\u001b[0;34m,\u001b[0m \u001b[0mroi\u001b[0m\u001b[0;34m,\u001b[0m \u001b[0mjy\u001b[0m\u001b[0;34m,\u001b[0m \u001b[0mix\u001b[0m\u001b[0;34m,\u001b[0m \u001b[0mcn\u001b[0m\u001b[0;34m]\u001b[0m\u001b[0;34m)\u001b[0m \u001b[0;34m<\u001b[0m \u001b[0;36m0.01\u001b[0m\u001b[0;34m:\u001b[0m\u001b[0;34m\u001b[0m\u001b[0;34m\u001b[0m\u001b[0m\n\u001b[1;32m     25\u001b[0m                     \u001b[0mpdb\u001b[0m\u001b[0;34m.\u001b[0m\u001b[0mset_trace\u001b[0m\u001b[0;34m(\u001b[0m\u001b[0;34m)\u001b[0m\u001b[0;34m\u001b[0m\u001b[0;34m\u001b[0m\u001b[0m\n\u001b[0;32m---> 26\u001b[0;31m                 np.testing.assert_almost_equal(\n\u001b[0m\u001b[1;32m     27\u001b[0m                     m_val, Y[0, roi, jy, ix, cn], decimal=6)\n\u001b[1;32m     28\u001b[0m                 \u001b[0midx\u001b[0m \u001b[0;34m+=\u001b[0m \u001b[0;36m1\u001b[0m\u001b[0;34m\u001b[0m\u001b[0;34m\u001b[0m\u001b[0m\n",
      "\u001b[0;32m<ipython-input-7-7806c0f0b4be>\u001b[0m in \u001b[0;36m<module>\u001b[0;34m\u001b[0m\n\u001b[1;32m     24\u001b[0m                 \u001b[0;32mif\u001b[0m \u001b[0mabs\u001b[0m\u001b[0;34m(\u001b[0m\u001b[0mm_val\u001b[0m \u001b[0;34m-\u001b[0m \u001b[0mY\u001b[0m\u001b[0;34m[\u001b[0m\u001b[0;36m0\u001b[0m\u001b[0;34m,\u001b[0m \u001b[0mroi\u001b[0m\u001b[0;34m,\u001b[0m \u001b[0mjy\u001b[0m\u001b[0;34m,\u001b[0m \u001b[0mix\u001b[0m\u001b[0;34m,\u001b[0m \u001b[0mcn\u001b[0m\u001b[0;34m]\u001b[0m\u001b[0;34m)\u001b[0m \u001b[0;34m<\u001b[0m \u001b[0;36m0.01\u001b[0m\u001b[0;34m:\u001b[0m\u001b[0;34m\u001b[0m\u001b[0;34m\u001b[0m\u001b[0m\n\u001b[1;32m     25\u001b[0m                     \u001b[0mpdb\u001b[0m\u001b[0;34m.\u001b[0m\u001b[0mset_trace\u001b[0m\u001b[0;34m(\u001b[0m\u001b[0;34m)\u001b[0m\u001b[0;34m\u001b[0m\u001b[0;34m\u001b[0m\u001b[0m\n\u001b[0;32m---> 26\u001b[0;31m                 np.testing.assert_almost_equal(\n\u001b[0m\u001b[1;32m     27\u001b[0m                     m_val, Y[0, roi, jy, ix, cn], decimal=6)\n\u001b[1;32m     28\u001b[0m                 \u001b[0midx\u001b[0m \u001b[0;34m+=\u001b[0m \u001b[0;36m1\u001b[0m\u001b[0;34m\u001b[0m\u001b[0;34m\u001b[0m\u001b[0m\n",
      "\u001b[0;32m/usr/lib/python3.7/bdb.py\u001b[0m in \u001b[0;36mtrace_dispatch\u001b[0;34m(self, frame, event, arg)\u001b[0m\n\u001b[1;32m     86\u001b[0m             \u001b[0;32mreturn\u001b[0m \u001b[0;31m# None\u001b[0m\u001b[0;34m\u001b[0m\u001b[0;34m\u001b[0m\u001b[0m\n\u001b[1;32m     87\u001b[0m         \u001b[0;32mif\u001b[0m \u001b[0mevent\u001b[0m \u001b[0;34m==\u001b[0m \u001b[0;34m'line'\u001b[0m\u001b[0;34m:\u001b[0m\u001b[0;34m\u001b[0m\u001b[0;34m\u001b[0m\u001b[0m\n\u001b[0;32m---> 88\u001b[0;31m             \u001b[0;32mreturn\u001b[0m \u001b[0mself\u001b[0m\u001b[0;34m.\u001b[0m\u001b[0mdispatch_line\u001b[0m\u001b[0;34m(\u001b[0m\u001b[0mframe\u001b[0m\u001b[0;34m)\u001b[0m\u001b[0;34m\u001b[0m\u001b[0;34m\u001b[0m\u001b[0m\n\u001b[0m\u001b[1;32m     89\u001b[0m         \u001b[0;32mif\u001b[0m \u001b[0mevent\u001b[0m \u001b[0;34m==\u001b[0m \u001b[0;34m'call'\u001b[0m\u001b[0;34m:\u001b[0m\u001b[0;34m\u001b[0m\u001b[0;34m\u001b[0m\u001b[0m\n\u001b[1;32m     90\u001b[0m             \u001b[0;32mreturn\u001b[0m \u001b[0mself\u001b[0m\u001b[0;34m.\u001b[0m\u001b[0mdispatch_call\u001b[0m\u001b[0;34m(\u001b[0m\u001b[0mframe\u001b[0m\u001b[0;34m,\u001b[0m \u001b[0marg\u001b[0m\u001b[0;34m)\u001b[0m\u001b[0;34m\u001b[0m\u001b[0;34m\u001b[0m\u001b[0m\n",
      "\u001b[0;32m/usr/lib/python3.7/bdb.py\u001b[0m in \u001b[0;36mdispatch_line\u001b[0;34m(self, frame)\u001b[0m\n\u001b[1;32m    111\u001b[0m         \u001b[0;32mif\u001b[0m \u001b[0mself\u001b[0m\u001b[0;34m.\u001b[0m\u001b[0mstop_here\u001b[0m\u001b[0;34m(\u001b[0m\u001b[0mframe\u001b[0m\u001b[0;34m)\u001b[0m \u001b[0;32mor\u001b[0m \u001b[0mself\u001b[0m\u001b[0;34m.\u001b[0m\u001b[0mbreak_here\u001b[0m\u001b[0;34m(\u001b[0m\u001b[0mframe\u001b[0m\u001b[0;34m)\u001b[0m\u001b[0;34m:\u001b[0m\u001b[0;34m\u001b[0m\u001b[0;34m\u001b[0m\u001b[0m\n\u001b[1;32m    112\u001b[0m             \u001b[0mself\u001b[0m\u001b[0;34m.\u001b[0m\u001b[0muser_line\u001b[0m\u001b[0;34m(\u001b[0m\u001b[0mframe\u001b[0m\u001b[0;34m)\u001b[0m\u001b[0;34m\u001b[0m\u001b[0;34m\u001b[0m\u001b[0m\n\u001b[0;32m--> 113\u001b[0;31m             \u001b[0;32mif\u001b[0m \u001b[0mself\u001b[0m\u001b[0;34m.\u001b[0m\u001b[0mquitting\u001b[0m\u001b[0;34m:\u001b[0m \u001b[0;32mraise\u001b[0m \u001b[0mBdbQuit\u001b[0m\u001b[0;34m\u001b[0m\u001b[0;34m\u001b[0m\u001b[0m\n\u001b[0m\u001b[1;32m    114\u001b[0m         \u001b[0;32mreturn\u001b[0m \u001b[0mself\u001b[0m\u001b[0;34m.\u001b[0m\u001b[0mtrace_dispatch\u001b[0m\u001b[0;34m\u001b[0m\u001b[0;34m\u001b[0m\u001b[0m\n\u001b[1;32m    115\u001b[0m \u001b[0;34m\u001b[0m\u001b[0m\n",
      "\u001b[0;31mBdbQuit\u001b[0m: "
     ]
    }
   ],
   "source": [
    "for roi in range(num_rois):\n",
    "    X_curr = X_img[0, int(X_roi[0, roi, 1]):int(X_roi[0, roi, 1] + X_roi[0, roi, 3]),\n",
    "             int(X_roi[0, roi, 0]):int(X_roi[0, roi, 0] + X_roi[0, roi, 2]), :]\n",
    "    row_length = float(X_curr.shape[0]) / pooling_regions\n",
    "    col_length = float(X_curr.shape[1]) / pooling_regions\n",
    "    \n",
    "    idx = 0\n",
    "    \n",
    "    for ix in range(pooling_regions):\n",
    "        for jy in range(pooling_regions):\n",
    "            for cn in range(num_channels):\n",
    "\n",
    "                x1 = int((ix * col_length))\n",
    "                x2 = int((ix * col_length + col_length))\n",
    "                y1 = int((jy * row_length))\n",
    "                y2 = int((jy * row_length + row_length))\n",
    "                dx = max(1, x2 - x1)\n",
    "                dy = max(1, y2 - y1)\n",
    "                x2 = x1 + dx\n",
    "                y2 = y1 + dy\n",
    "\n",
    "                m_val = np.max(X_curr[y1:y2, x1:x2, cn])\n",
    "\n",
    "                if abs(m_val - Y[0, roi, jy, ix, cn]) < 0.01:\n",
    "                    pdb.set_trace()\n",
    "                np.testing.assert_almost_equal(\n",
    "                    m_val, Y[0, roi, jy, ix, cn], decimal=6)\n",
    "                idx += 1"
   ]
  },
  {
   "cell_type": "code",
   "execution_count": null,
   "metadata": {
    "ExecuteTime": {
     "end_time": "2019-12-18T15:02:01.335277Z",
     "start_time": "2019-12-18T15:02:01.322932Z"
    }
   },
   "outputs": [],
   "source": [
    "row_length"
   ]
  },
  {
   "cell_type": "code",
   "execution_count": null,
   "metadata": {},
   "outputs": [],
   "source": []
  }
 ],
 "metadata": {
  "kernelspec": {
   "display_name": "tensorflow_1.14.0_env",
   "language": "python",
   "name": "tensorflow_1.14.0_env"
  },
  "language_info": {
   "codemirror_mode": {
    "name": "ipython",
    "version": 3
   },
   "file_extension": ".py",
   "mimetype": "text/x-python",
   "name": "python",
   "nbconvert_exporter": "python",
   "pygments_lexer": "ipython3",
   "version": "3.7.5"
  },
  "varInspector": {
   "cols": {
    "lenName": 16,
    "lenType": 16,
    "lenVar": 40
   },
   "kernels_config": {
    "python": {
     "delete_cmd_postfix": "",
     "delete_cmd_prefix": "del ",
     "library": "var_list.py",
     "varRefreshCmd": "print(var_dic_list())"
    },
    "r": {
     "delete_cmd_postfix": ") ",
     "delete_cmd_prefix": "rm(",
     "library": "var_list.r",
     "varRefreshCmd": "cat(var_dic_list()) "
    }
   },
   "types_to_exclude": [
    "module",
    "function",
    "builtin_function_or_method",
    "instance",
    "_Feature"
   ],
   "window_display": false
  }
 },
 "nbformat": 4,
 "nbformat_minor": 2
}
