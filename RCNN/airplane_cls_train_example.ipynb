{
 "cells": [
  {
   "cell_type": "markdown",
   "metadata": {},
   "source": [
    "# Stpe-2 Training"
   ]
  },
  {
   "cell_type": "code",
   "execution_count": 9,
   "metadata": {
    "ExecuteTime": {
     "end_time": "2019-12-03T02:03:28.885486Z",
     "start_time": "2019-12-03T02:03:27.171986Z"
    }
   },
   "outputs": [
    {
     "name": "stdout",
     "output_type": "stream",
     "text": [
      "Once deleted, variables cannot be recovered. Proceed (y/[n])? y\n"
     ]
    }
   ],
   "source": [
    "%reset\n",
    "\n",
    "import numpy as np\n",
    "import os\n",
    "import keras\n",
    "import pydot\n",
    "import pandas as pd\n",
    "\n",
    "from keras import Model, optimizers\n",
    "from keras.layers import Dense\n",
    "from keras.preprocessing.image import ImageDataGenerator\n",
    "from keras.optimizers import Adam\n",
    "from keras.utils import multi_gpu_model, plot_model, to_categorical\n",
    "from keras.applications.vgg16 import VGG16\n",
    "\n",
    "%matplotlib inline"
   ]
  },
  {
   "cell_type": "markdown",
   "metadata": {},
   "source": [
    "### 1. Load Train Data"
   ]
  },
  {
   "cell_type": "code",
   "execution_count": 6,
   "metadata": {
    "ExecuteTime": {
     "end_time": "2019-12-03T01:59:45.930496Z",
     "start_time": "2019-12-03T01:59:45.926707Z"
    }
   },
   "outputs": [
    {
     "name": "stdout",
     "output_type": "stream",
     "text": [
      "['cls_trn_img', 'cls_trn_lb', 'reg_trn_img', 'reg_trn_delta']\n"
     ]
    }
   ],
   "source": [
    "# Load Train Data(with regions)\n",
    "train_data = np.load('train_data.npz')\n",
    "print(train_data.files)"
   ]
  },
  {
   "cell_type": "markdown",
   "metadata": {},
   "source": [
    "### 2. Data Augmenation"
   ]
  },
  {
   "cell_type": "code",
   "execution_count": 3,
   "metadata": {
    "ExecuteTime": {
     "end_time": "2019-12-03T01:56:57.367821Z",
     "start_time": "2019-12-03T01:56:09.972856Z"
    }
   },
   "outputs": [],
   "source": [
    "val_split = 0.2\n",
    "\n",
    "cls_trn_img = train_data['cls_trn_img']\n",
    "cls_trn_lb = to_categorical(train_data['cls_trn_lb'], 2)\n",
    "\n",
    "# Data Augmentation\n",
    "train_datagen = ImageDataGenerator(rescale=1./255, horizontal_flip=True, vertical_flip=True, rotation_range=90, validation_split=0.2)\n",
    "train_datagen.fit(cls_trn_img)\n",
    "\n",
    "# train-data\n",
    "train_generator = train_datagen.flow(cls_trn_img, cls_trn_lb, batch_size=128, shuffle=True, subset='training')\n",
    "# val-data\n",
    "validation_generator = train_datagen.flow(cls_trn_img, cls_trn_lb, batch_size=128, shuffle=True, subset='validation')\n"
   ]
  },
  {
   "cell_type": "markdown",
   "metadata": {},
   "source": [
    "### 3. Initialize Model"
   ]
  },
  {
   "cell_type": "code",
   "execution_count": null,
   "metadata": {
    "ExecuteTime": {
     "end_time": "2019-12-03T01:57:10.681454Z",
     "start_time": "2019-12-03T01:56:37.626Z"
    }
   },
   "outputs": [],
   "source": [
    "# GPU Allocation Setting\n",
    "    # import tensorflow as tf\n",
    "    # from keras.backend.tensorflow_backend import set_session\n",
    "    # config = tf.ConfigProto()\n",
    "    # config.gpu_options.per_process_gpu_memory_fraction = 0.9\n",
    "    # config.gpu_options.visible_device_list = '0'\n",
    "    # set_session(tf.Session(config=config))\n",
    "\n",
    "vggmodel = VGG16(weights='imagenet', include_top=True)\n",
    "\n",
    "for layers in (vggmodel.layers)[:15]:\n",
    "    layers.trainable = False\n",
    "    \n",
    "X = vggmodel.layers[-2].output\n",
    "predictions = Dense(2, activation=\"softmax\")(X)\n",
    "\n",
    "model_final = Model(input = vggmodel.input, output = predictions)\n",
    "\n",
    "# Multi GPU\n",
    "# model_final = multi_gpu_model(model_final, gpus=2)\n",
    "\n",
    "opt = Adam(lr=0.0001)\n",
    "model_final.compile(loss = keras.losses.categorical_crossentropy, optimizer = opt, metrics=[\"accuracy\"])"
   ]
  },
  {
   "cell_type": "markdown",
   "metadata": {},
   "source": [
    "### 4. Save Model"
   ]
  },
  {
   "cell_type": "code",
   "execution_count": null,
   "metadata": {
    "ExecuteTime": {
     "end_time": "2019-12-03T01:57:10.689548Z",
     "start_time": "2019-12-03T01:56:47.682Z"
    }
   },
   "outputs": [],
   "source": [
    "# Model Save\n",
    "model_json = model_final.to_json()\n",
    "with open('network_model.json', 'w') as json_file:\n",
    "    json_file.write(model_json)\n",
    "# To Text File\n",
    "with open('network_model.txt', 'w') as model_file:\n",
    "    # Pass the file handle in as a lambda function to make it callable\n",
    "    model_final.summary(print_fn=lambda x: model_file.write(x + '\\n'))\n",
    "\n",
    "# To Model Visualization\n",
    "# plot_model(model_final, to_file='model_plot.png', show_shapes=True, show_layer_names=True)"
   ]
  },
  {
   "cell_type": "markdown",
   "metadata": {},
   "source": [
    "### 5. Model Training"
   ]
  },
  {
   "cell_type": "code",
   "execution_count": null,
   "metadata": {},
   "outputs": [],
   "source": [
    "from keras.callbacks import CSVLogger, ModelCheckpoint, EarlyStopping\n",
    "log = CSVLogger('log.csv', append=True, separator=';')\n",
    "checkpoint = ModelCheckpoint(filepath='vgg16-airplane_{epoch:02d}_{val_loss:.4f}.h5', monitor='val_loss', verbose=1, save_best_only=True, save_weights_only=False, mode='auto', period=1)\n",
    "early = EarlyStopping(monitor='val_loss', min_delta=0, patience=100, verbose=1, mode='auto')\n",
    "callback_list = [log, checkpoint, early]\n",
    "\n",
    "history = model_final.fit_generator(\n",
    "    train_generator,\n",
    "    steps_per_epoch=int((cls_trn_img.shape[0] * (1.0 - 0.2)) / 128),\n",
    "    epochs=1000,\n",
    "    validation_data=validation_generator,\n",
    "    validation_steps=int((cls_trn_img.shape[0] * 0.2) / 128),\n",
    "    verbose=1,\n",
    "    callbacks=callback_list)\n",
    "\n",
    "model_final.save_weights('trained_weight.h5')"
   ]
  },
  {
   "cell_type": "markdown",
   "metadata": {},
   "source": [
    "### 6. Loss&Accuracy Graph"
   ]
  },
  {
   "cell_type": "code",
   "execution_count": 112,
   "metadata": {
    "ExecuteTime": {
     "end_time": "2019-12-03T02:51:14.668198Z",
     "start_time": "2019-12-03T02:51:14.651584Z"
    }
   },
   "outputs": [],
   "source": [
    "import matplotlib.pyplot as plt\n",
    "\n",
    "def VisualizeLossAccCurve(data):\n",
    "    fig, loss_ax = plt.subplots(1, figsize=(10, 10))\n",
    "    acc_ax = loss_ax.twinx()\n",
    "\n",
    "    color_list = ['r', 'g', 'b', 'y']\n",
    "\n",
    "    loss_ax.plot(data['loss'], color=color_list[0], linestyle='-', label='loss')\n",
    "    acc_ax.plot(data['accuracy'], color=color_list[1], linestyle='-', label='accuracy')\n",
    "\n",
    "    loss_ax.plot(data['val_loss'], color=color_list[2], linestyle=':', label='val_loss')\n",
    "    acc_ax.plot(data['val_accuracy'], color=color_list[3], linestyle=':', label='val_accuracy')\n",
    "\n",
    "    loss_ax.set_xlabel('Epoch')\n",
    "    loss_ax.set_ylabel('Loss')\n",
    "    acc_ax.set_ylabel('Accuracy')\n",
    "\n",
    "    loss_ax.legend(loc='upper left')\n",
    "    acc_ax.legend(loc='lower left')\n",
    "\n",
    "    fig.suptitle('Training Results(Accuracy & Loss)', fontsize=16)\n",
    "\n",
    "    plt.tight_layout()\n"
   ]
  },
  {
   "cell_type": "code",
   "execution_count": 113,
   "metadata": {
    "ExecuteTime": {
     "end_time": "2019-12-03T02:51:15.348788Z",
     "start_time": "2019-12-03T02:51:14.850123Z"
    },
    "scrolled": false
   },
   "outputs": [
    {
     "name": "stdout",
     "output_type": "stream",
     "text": [
      "data shape :: (109, 5)\n",
      "data columns :: Index(['epoch', 'accuracy', 'loss', 'val_accuracy', 'val_loss'], dtype='object')\n"
     ]
    },
    {
     "data": {
      "text/html": [
       "<div>\n",
       "<style scoped>\n",
       "    .dataframe tbody tr th:only-of-type {\n",
       "        vertical-align: middle;\n",
       "    }\n",
       "\n",
       "    .dataframe tbody tr th {\n",
       "        vertical-align: top;\n",
       "    }\n",
       "\n",
       "    .dataframe thead th {\n",
       "        text-align: right;\n",
       "    }\n",
       "</style>\n",
       "<table border=\"1\" class=\"dataframe\">\n",
       "  <thead>\n",
       "    <tr style=\"text-align: right;\">\n",
       "      <th></th>\n",
       "      <th>epoch</th>\n",
       "      <th>accuracy</th>\n",
       "      <th>loss</th>\n",
       "      <th>val_accuracy</th>\n",
       "      <th>val_loss</th>\n",
       "    </tr>\n",
       "  </thead>\n",
       "  <tbody>\n",
       "    <tr>\n",
       "      <td>0</td>\n",
       "      <td>0</td>\n",
       "      <td>0.863659</td>\n",
       "      <td>0.322468</td>\n",
       "      <td>0.904018</td>\n",
       "      <td>0.213420</td>\n",
       "    </tr>\n",
       "    <tr>\n",
       "      <td>1</td>\n",
       "      <td>0</td>\n",
       "      <td>0.533499</td>\n",
       "      <td>7.404985</td>\n",
       "      <td>0.533333</td>\n",
       "      <td>7.618318</td>\n",
       "    </tr>\n",
       "    <tr>\n",
       "      <td>2</td>\n",
       "      <td>0</td>\n",
       "      <td>0.863368</td>\n",
       "      <td>0.450100</td>\n",
       "      <td>0.916583</td>\n",
       "      <td>0.207547</td>\n",
       "    </tr>\n",
       "    <tr>\n",
       "      <td>3</td>\n",
       "      <td>1</td>\n",
       "      <td>0.928268</td>\n",
       "      <td>0.195277</td>\n",
       "      <td>0.920953</td>\n",
       "      <td>0.226212</td>\n",
       "    </tr>\n",
       "    <tr>\n",
       "      <td>4</td>\n",
       "      <td>2</td>\n",
       "      <td>0.934238</td>\n",
       "      <td>0.181955</td>\n",
       "      <td>0.928770</td>\n",
       "      <td>0.204270</td>\n",
       "    </tr>\n",
       "    <tr>\n",
       "      <td>...</td>\n",
       "      <td>...</td>\n",
       "      <td>...</td>\n",
       "      <td>...</td>\n",
       "      <td>...</td>\n",
       "      <td>...</td>\n",
       "    </tr>\n",
       "    <tr>\n",
       "      <td>104</td>\n",
       "      <td>102</td>\n",
       "      <td>0.975320</td>\n",
       "      <td>0.067203</td>\n",
       "      <td>0.932300</td>\n",
       "      <td>0.365302</td>\n",
       "    </tr>\n",
       "    <tr>\n",
       "      <td>105</td>\n",
       "      <td>103</td>\n",
       "      <td>0.975597</td>\n",
       "      <td>0.065286</td>\n",
       "      <td>0.925996</td>\n",
       "      <td>0.575704</td>\n",
       "    </tr>\n",
       "    <tr>\n",
       "      <td>106</td>\n",
       "      <td>104</td>\n",
       "      <td>0.975400</td>\n",
       "      <td>0.064870</td>\n",
       "      <td>0.931795</td>\n",
       "      <td>0.468347</td>\n",
       "    </tr>\n",
       "    <tr>\n",
       "      <td>107</td>\n",
       "      <td>105</td>\n",
       "      <td>0.975086</td>\n",
       "      <td>0.066651</td>\n",
       "      <td>0.928139</td>\n",
       "      <td>0.576784</td>\n",
       "    </tr>\n",
       "    <tr>\n",
       "      <td>108</td>\n",
       "      <td>106</td>\n",
       "      <td>0.975689</td>\n",
       "      <td>0.065984</td>\n",
       "      <td>0.926500</td>\n",
       "      <td>0.459173</td>\n",
       "    </tr>\n",
       "  </tbody>\n",
       "</table>\n",
       "<p>109 rows × 5 columns</p>\n",
       "</div>"
      ],
      "text/plain": [
       "     epoch  accuracy      loss  val_accuracy  val_loss\n",
       "0        0  0.863659  0.322468      0.904018  0.213420\n",
       "1        0  0.533499  7.404985      0.533333  7.618318\n",
       "2        0  0.863368  0.450100      0.916583  0.207547\n",
       "3        1  0.928268  0.195277      0.920953  0.226212\n",
       "4        2  0.934238  0.181955      0.928770  0.204270\n",
       "..     ...       ...       ...           ...       ...\n",
       "104    102  0.975320  0.067203      0.932300  0.365302\n",
       "105    103  0.975597  0.065286      0.925996  0.575704\n",
       "106    104  0.975400  0.064870      0.931795  0.468347\n",
       "107    105  0.975086  0.066651      0.928139  0.576784\n",
       "108    106  0.975689  0.065984      0.926500  0.459173\n",
       "\n",
       "[109 rows x 5 columns]"
      ]
     },
     "metadata": {},
     "output_type": "display_data"
    },
    {
     "data": {
      "image/png": "[encoded data removed]",
      "text/plain": [
       "<Figure size 720x720 with 2 Axes>"
      ]
     },
     "metadata": {
      "needs_background": "light"
     },
     "output_type": "display_data"
    }
   ],
   "source": [
    "from IPython.display import display\n",
    "\n",
    "# model 학습 종료된 파라미터 있을때.\n",
    "# VisualizeLossAccCurve(history.history)\n",
    "\n",
    "# 학습 log.csv file 읽어와서 사용 할 때\n",
    "job_name = 'vgg16-airplane'\n",
    "log_dir = os.path.join(os.getcwd(), 'experiments', job_name)\n",
    "log_path = os.path.join(log_dir, 'log.csv')\n",
    "data = pd.read_csv(log_path, sep=';')\n",
    "print('data shape ::', data.shape)\n",
    "print('data columns ::', data.columns)\n",
    "display(pd.DataFrame(data))\n",
    "data = data[['accuracy', 'loss', 'val_accuracy', 'val_loss']]\n",
    "\n",
    "VisualizeLossAccCurve(data)"
   ]
  },
  {
   "cell_type": "code",
   "execution_count": null,
   "metadata": {},
   "outputs": [],
   "source": []
  }
 ],
 "metadata": {
  "kernelspec": {
   "display_name": "tensorflow_1.14.0_env",
   "language": "python",
   "name": "tensorflow_1.14.0_env"
  },
  "language_info": {
   "codemirror_mode": {
    "name": "ipython",
    "version": 3
   },
   "file_extension": ".py",
   "mimetype": "text/x-python",
   "name": "python",
   "nbconvert_exporter": "python",
   "pygments_lexer": "ipython3",
   "version": "3.7.5"
  },
  "varInspector": {
   "cols": {
    "lenName": 16,
    "lenType": 16,
    "lenVar": 40
   },
   "kernels_config": {
    "python": {
     "delete_cmd_postfix": "",
     "delete_cmd_prefix": "del ",
     "library": "var_list.py",
     "varRefreshCmd": "print(var_dic_list())"
    },
    "r": {
     "delete_cmd_postfix": ") ",
     "delete_cmd_prefix": "rm(",
     "library": "var_list.r",
     "varRefreshCmd": "cat(var_dic_list()) "
    }
   },
   "oldHeight": 454,
   "position": {
    "height": "40px",
    "left": "594px",
    "right": "20px",
    "top": "120px",
    "width": "350px"
   },
   "types_to_exclude": [
    "module",
    "function",
    "builtin_function_or_method",
    "instance",
    "_Feature"
   ],
   "varInspector_section_display": "none",
   "window_display": false
  }
 },
 "nbformat": 4,
 "nbformat_minor": 2
}
