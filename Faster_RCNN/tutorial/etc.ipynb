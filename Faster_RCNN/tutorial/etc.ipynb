{
 "cells": [
  {
   "cell_type": "code",
   "execution_count": 1,
   "metadata": {
    "ExecuteTime": {
     "end_time": "2020-02-06T04:35:23.937854Z",
     "start_time": "2020-02-06T04:35:23.932585Z"
    }
   },
   "outputs": [],
   "source": [
    "import numpy"
   ]
  },
  {
   "cell_type": "code",
   "execution_count": 4,
   "metadata": {
    "ExecuteTime": {
     "end_time": "2020-02-06T04:35:48.135275Z",
     "start_time": "2020-02-06T04:35:48.130005Z"
    }
   },
   "outputs": [],
   "source": [
    "arr1 = np.array([1,2,3])\n",
    "arr2 = np.array([4,5,6])"
   ]
  },
  {
   "cell_type": "code",
   "execution_count": 6,
   "metadata": {
    "ExecuteTime": {
     "end_time": "2020-02-06T04:36:30.664966Z",
     "start_time": "2020-02-06T04:36:30.658617Z"
    }
   },
   "outputs": [],
   "source": [
    "X, Y = np.meshgrid(np.arange(18), np.arange(25))"
   ]
  },
  {
   "cell_type": "code",
   "execution_count": 10,
   "metadata": {
    "ExecuteTime": {
     "end_time": "2020-02-06T04:36:45.401635Z",
     "start_time": "2020-02-06T04:36:45.394433Z"
    }
   },
   "outputs": [
    {
     "data": {
      "text/plain": [
       "(25, 18)"
      ]
     },
     "execution_count": 10,
     "metadata": {},
     "output_type": "execute_result"
    }
   ],
   "source": [
    "X.shape"
   ]
  },
  {
   "cell_type": "code",
   "execution_count": 13,
   "metadata": {
    "ExecuteTime": {
     "end_time": "2020-02-06T04:37:37.450727Z",
     "start_time": "2020-02-06T04:37:37.433070Z"
    }
   },
   "outputs": [
    {
     "data": {
      "text/plain": [
       "array([[-8., -7., -6., -5., -4., -3., -2., -1.,  0.,  1.,  2.,  3.,  4.,\n",
       "         5.,  6.,  7.,  8.,  9.],\n",
       "       [-8., -7., -6., -5., -4., -3., -2., -1.,  0.,  1.,  2.,  3.,  4.,\n",
       "         5.,  6.,  7.,  8.,  9.],\n",
       "       [-8., -7., -6., -5., -4., -3., -2., -1.,  0.,  1.,  2.,  3.,  4.,\n",
       "         5.,  6.,  7.,  8.,  9.],\n",
       "       [-8., -7., -6., -5., -4., -3., -2., -1.,  0.,  1.,  2.,  3.,  4.,\n",
       "         5.,  6.,  7.,  8.,  9.],\n",
       "       [-8., -7., -6., -5., -4., -3., -2., -1.,  0.,  1.,  2.,  3.,  4.,\n",
       "         5.,  6.,  7.,  8.,  9.],\n",
       "       [-8., -7., -6., -5., -4., -3., -2., -1.,  0.,  1.,  2.,  3.,  4.,\n",
       "         5.,  6.,  7.,  8.,  9.],\n",
       "       [-8., -7., -6., -5., -4., -3., -2., -1.,  0.,  1.,  2.,  3.,  4.,\n",
       "         5.,  6.,  7.,  8.,  9.],\n",
       "       [-8., -7., -6., -5., -4., -3., -2., -1.,  0.,  1.,  2.,  3.,  4.,\n",
       "         5.,  6.,  7.,  8.,  9.],\n",
       "       [-8., -7., -6., -5., -4., -3., -2., -1.,  0.,  1.,  2.,  3.,  4.,\n",
       "         5.,  6.,  7.,  8.,  9.],\n",
       "       [-8., -7., -6., -5., -4., -3., -2., -1.,  0.,  1.,  2.,  3.,  4.,\n",
       "         5.,  6.,  7.,  8.,  9.],\n",
       "       [-8., -7., -6., -5., -4., -3., -2., -1.,  0.,  1.,  2.,  3.,  4.,\n",
       "         5.,  6.,  7.,  8.,  9.],\n",
       "       [-8., -7., -6., -5., -4., -3., -2., -1.,  0.,  1.,  2.,  3.,  4.,\n",
       "         5.,  6.,  7.,  8.,  9.],\n",
       "       [-8., -7., -6., -5., -4., -3., -2., -1.,  0.,  1.,  2.,  3.,  4.,\n",
       "         5.,  6.,  7.,  8.,  9.],\n",
       "       [-8., -7., -6., -5., -4., -3., -2., -1.,  0.,  1.,  2.,  3.,  4.,\n",
       "         5.,  6.,  7.,  8.,  9.],\n",
       "       [-8., -7., -6., -5., -4., -3., -2., -1.,  0.,  1.,  2.,  3.,  4.,\n",
       "         5.,  6.,  7.,  8.,  9.],\n",
       "       [-8., -7., -6., -5., -4., -3., -2., -1.,  0.,  1.,  2.,  3.,  4.,\n",
       "         5.,  6.,  7.,  8.,  9.],\n",
       "       [-8., -7., -6., -5., -4., -3., -2., -1.,  0.,  1.,  2.,  3.,  4.,\n",
       "         5.,  6.,  7.,  8.,  9.],\n",
       "       [-8., -7., -6., -5., -4., -3., -2., -1.,  0.,  1.,  2.,  3.,  4.,\n",
       "         5.,  6.,  7.,  8.,  9.],\n",
       "       [-8., -7., -6., -5., -4., -3., -2., -1.,  0.,  1.,  2.,  3.,  4.,\n",
       "         5.,  6.,  7.,  8.,  9.],\n",
       "       [-8., -7., -6., -5., -4., -3., -2., -1.,  0.,  1.,  2.,  3.,  4.,\n",
       "         5.,  6.,  7.,  8.,  9.],\n",
       "       [-8., -7., -6., -5., -4., -3., -2., -1.,  0.,  1.,  2.,  3.,  4.,\n",
       "         5.,  6.,  7.,  8.,  9.],\n",
       "       [-8., -7., -6., -5., -4., -3., -2., -1.,  0.,  1.,  2.,  3.,  4.,\n",
       "         5.,  6.,  7.,  8.,  9.],\n",
       "       [-8., -7., -6., -5., -4., -3., -2., -1.,  0.,  1.,  2.,  3.,  4.,\n",
       "         5.,  6.,  7.,  8.,  9.],\n",
       "       [-8., -7., -6., -5., -4., -3., -2., -1.,  0.,  1.,  2.,  3.,  4.,\n",
       "         5.,  6.,  7.,  8.,  9.],\n",
       "       [-8., -7., -6., -5., -4., -3., -2., -1.,  0.,  1.,  2.,  3.,  4.,\n",
       "         5.,  6.,  7.,  8.,  9.]])"
      ]
     },
     "execution_count": 13,
     "metadata": {},
     "output_type": "execute_result"
    }
   ],
   "source": [
    "X - (128/16)"
   ]
  },
  {
   "cell_type": "code",
   "execution_count": null,
   "metadata": {},
   "outputs": [],
   "source": []
  }
 ],
 "metadata": {
  "kernelspec": {
   "display_name": "Python 3",
   "language": "python",
   "name": "python3"
  },
  "language_info": {
   "codemirror_mode": {
    "name": "ipython",
    "version": 3
   },
   "file_extension": ".py",
   "mimetype": "text/x-python",
   "name": "python",
   "nbconvert_exporter": "python",
   "pygments_lexer": "ipython3",
   "version": "3.7.5"
  },
  "varInspector": {
   "cols": {
    "lenName": 16,
    "lenType": 16,
    "lenVar": 40
   },
   "kernels_config": {
    "python": {
     "delete_cmd_postfix": "",
     "delete_cmd_prefix": "del ",
     "library": "var_list.py",
     "varRefreshCmd": "print(var_dic_list())"
    },
    "r": {
     "delete_cmd_postfix": ") ",
     "delete_cmd_prefix": "rm(",
     "library": "var_list.r",
     "varRefreshCmd": "cat(var_dic_list()) "
    }
   },
   "types_to_exclude": [
    "module",
    "function",
    "builtin_function_or_method",
    "instance",
    "_Feature"
   ],
   "window_display": false
  }
 },
 "nbformat": 4,
 "nbformat_minor": 4
}
